{
 "cells": [
  {
   "cell_type": "code",
   "execution_count": 16,
   "metadata": {
    "collapsed": true
   },
   "outputs": [],
   "source": [
    "from __future__ import print_function\n",
    "import gdal\n",
    "from gdalconst import *\n",
    "import numpy as np\n",
    "from scipy.sparse import csr_matrix\n",
    "from scipy import sparse\n",
    "import glob\n",
    "from os import path"
   ]
  },
  {
   "cell_type": "code",
   "execution_count": 2,
   "metadata": {
    "collapsed": false
   },
   "outputs": [],
   "source": [
    "def normalise_raster(ras):\n",
    "    ras[ras==-9999] = np.nan  # NaN out missing data\n",
    "    # normalise to [0, 1]\n",
    "    normras = (ras - np.nanmin(ras)) / np.nanmax(ras)\n",
    "    return normras\n",
    "\n",
    "def threshhold_raster(ras, threshold):\n",
    "    ras = np.nan_to_num(ras)\n",
    "    ras[ras<threshold] = 0\n",
    "    return ras\n",
    "\n",
    "def get_selector_raster(filename, thresh=0.55):\n",
    "    sel = gdal.Open(filename).ReadAsArray()\n",
    "    sel = normalise_raster(sel)\n",
    "    sel = threshhold_raster(sel, thresh)\n",
    "    return sel"
   ]
  },
  {
   "cell_type": "code",
   "execution_count": 3,
   "metadata": {
    "collapsed": false
   },
   "outputs": [],
   "source": [
    "def get_climate_layers(pathglob):\n",
    "    cl = glob.glob(pathglob)\n",
    "    cln = map(path.basename, cl)\n",
    "    cln = map(lambda x: path.splitext(x)[0], cln)\n",
    "    return dict(zip(cln, cl))"
   ]
  },
  {
   "cell_type": "code",
   "execution_count": 4,
   "metadata": {
    "collapsed": true
   },
   "outputs": [],
   "source": [
    "cldict = get_climate_layers('Au_ClimLayers/bio*.asc')\n",
    "selector = get_selector_raster(\"B.hybridumAu_avg.asc\")"
   ]
  },
  {
   "cell_type": "code",
   "execution_count": 5,
   "metadata": {
    "collapsed": true
   },
   "outputs": [],
   "source": []
  },
  {
   "cell_type": "code",
   "execution_count": 7,
   "metadata": {
    "collapsed": false
   },
   "outputs": [],
   "source": []
  },
  {
   "cell_type": "code",
   "execution_count": 12,
   "metadata": {
    "collapsed": false
   },
   "outputs": [],
   "source": [
    "layers={}\n",
    "for cl, clpath in cldict.items():\n",
    "    layer = gdal.Open(clpath).ReadAsArray().astype(np.float)\n",
    "    layer *= selector\n",
    "    layer[layer==0.] = np.nan\n",
    "    layers[cl] = layer"
   ]
  },
  {
   "cell_type": "code",
   "execution_count": 20,
   "metadata": {
    "collapsed": false
   },
   "outputs": [],
   "source": [
    "spsel = csr_matrix(selector)\n",
    "x, y, w = sparse.find(spsel)\n"
   ]
  },
  {
   "cell_type": "code",
   "execution_count": 22,
   "metadata": {
    "collapsed": false
   },
   "outputs": [],
   "source": [
    "with open(\"outmat.tab\", 'w') as ofh:\n",
    "    # Print header\n",
    "    header = ['x', 'y', 'maxent_weight', ] + list(sorted(layers.keys()))\n",
    "    print(*header, sep='\\t', file=ofh)\n",
    "    xs, ys, ws = sparse.find(spsel)\n",
    "    for x, y, w in zip(xs, ys, ws):\n",
    "        line = [x, y, w,]\n",
    "        for cl, layer in sorted(layers.items()):\n",
    "            line.append(layer[x, y])\n",
    "        print(*line, sep='\\t', file=ofh)\n",
    "    "
   ]
  },
  {
   "cell_type": "code",
   "execution_count": null,
   "metadata": {
    "collapsed": true
   },
   "outputs": [],
   "source": [
    " layer = gdal.Open(clpath).ReadAsArray().astype(np.float)\n",
    "    layer *= selector\n",
    "    layer[layer==0.] = np.nan\n",
    "    sp = csr_matrix(layer)\n",
    "    print cl, np.nanmean(layer), np.nanstd(layer)\n",
    "    cl, clpath = list(cldict.items())[0]"
   ]
  },
  {
   "cell_type": "code",
   "execution_count": null,
   "metadata": {
    "collapsed": true
   },
   "outputs": [],
   "source": []
  },
  {
   "cell_type": "markdown",
   "metadata": {},
   "source": [
    "\n",
    "# Algorithm\n",
    "\n",
    "- Prepare input raster mask\n",
    "    - Read in maxent ouput\n",
    "    - Normalise to [0, 1]\n",
    "    - set NaN or things < threshold to 0\n",
    "    \n",
    "- prepare dict of matricies\n",
    "    \n",
    "    \n",
    "\n",
    "    \n"
   ]
  },
  {
   "cell_type": "code",
   "execution_count": null,
   "metadata": {
    "collapsed": true
   },
   "outputs": [],
   "source": []
  }
 ],
 "metadata": {
  "kernelspec": {
   "display_name": "Python 2",
   "language": "python",
   "name": "python2"
  },
  "language_info": {
   "codemirror_mode": {
    "name": "ipython",
    "version": 2
   },
   "file_extension": ".py",
   "mimetype": "text/x-python",
   "name": "python",
   "nbconvert_exporter": "python",
   "pygments_lexer": "ipython2",
   "version": "2.7.10+"
  }
 },
 "nbformat": 4,
 "nbformat_minor": 0
}
